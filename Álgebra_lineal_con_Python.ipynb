{
  "nbformat": 4,
  "nbformat_minor": 0,
  "metadata": {
    "colab": {
      "provenance": []
    },
    "kernelspec": {
      "name": "python3",
      "display_name": "Python 3"
    },
    "language_info": {
      "name": "python"
    }
  },
  "cells": [
    {
      "cell_type": "markdown",
      "source": [
        "# Álgebra Lineal con Python\n",
        "\n",
        "Recordemos que si damos $n\\times m$ números reales, entonces podemos crear un arreglo (una matriz):\n",
        "$$A_{m\\times n}=\\begin{bmatrix}\n",
        "a_{11} & a_{12} & \\cdots & a_{1n} \\\\\n",
        "a_{21} & a_{22} & \\cdots & a_{2n} \\\\\n",
        "\\vdots & \\vdots & \\ddots & \\vdots \\\\\n",
        "a_{m1} & a_{m2} & \\cdots & a_{mn}\n",
        "\\end{bmatrix}$$\n",
        "\n",
        "y al conjunto de matrices con coeficientes en $\\mathbb{R}$ lo denotamos $\\text{Mat}_{m\\times n}(\\mathbb{R})$.\n"
      ],
      "metadata": {
        "id": "MXfDgHr3RAt7"
      }
    },
    {
      "cell_type": "code",
      "source": [
        "type(2), type(2.0), type(\"2\") # La función type(obj) nos dice el tipo de objeto con el que se está trabajando."
      ],
      "metadata": {
        "colab": {
          "base_uri": "https://localhost:8080/"
        },
        "id": "rrsH4dA7SLmP",
        "outputId": "7fa4ae29-9fd8-4963-aaf0-fb753242fb86"
      },
      "execution_count": 2,
      "outputs": [
        {
          "output_type": "execute_result",
          "data": {
            "text/plain": [
              "(int, float, str)"
            ]
          },
          "metadata": {},
          "execution_count": 2
        }
      ]
    },
    {
      "cell_type": "markdown",
      "source": [
        "### Variables\n",
        "$$\\text{nombre} = \\text{objeto}$$\n",
        "\n",
        "Debug: $\\text{print(variable)}$"
      ],
      "metadata": {
        "id": "F_m9B2_BdbEM"
      }
    },
    {
      "cell_type": "markdown",
      "source": [
        "1. Suma de matrices\n",
        "\n",
        "$$\\begin{pmatrix} a_{11} & a_{12} & \\cdots & a_{1n} \\\\ a_{21} & a_{22} & \\cdots & a_{2n} \\\\ \\vdots & \\vdots & \\ddots & \\vdots \\\\ a_{m1} & a_{m2} & \\cdots & a_{mn} \\end{pmatrix} + \\begin{pmatrix} b_{11} & b_{12} & \\cdots & b_{1n} \\\\ b_{21} & b_{22} & \\cdots & b_{2n} \\\\ \\vdots & \\vdots & \\ddots & \\vdots \\\\ b_{m1} & b_{m2} & \\cdots & b_{mn} \\end{pmatrix} = \\begin{pmatrix} a_{11} + b_{11} & a_{12} + b_{12} & \\cdots & a_{1n} + b_{1n} \\\\ a_{21} + b_{21} & a_{22} + b_{22} & \\cdots & a_{2n} + b_{2n} \\\\ \\vdots & \\vdots & \\ddots & \\vdots \\\\ a_{m1} + b_{m1} & a_{m2} + b_{m2} & \\cdots & a_{mn} + b_{mn} \\end{pmatrix}$$\n",
        "\n",
        "2. Multiplicación de matrices\n",
        "\n",
        "$$\\begin{pmatrix} a_{11} & a_{12} \\\\ a_{21} & a_{22} \\end{pmatrix} \\times \\begin{pmatrix} b_{11} & b_{12} \\\\ b_{21} & b_{22} \\end{pmatrix} = \\begin{pmatrix} a_{11}b_{11} + a_{12}b_{21} & a_{11}b_{12} + a_{12}b_{22} \\\\ a_{21}b_{11} + a_{22}b_{21} & a_{21}b_{12} + a_{22}b_{22} \\end{pmatrix} $$"
      ],
      "metadata": {
        "id": "j8u-P7h72XGv"
      }
    },
    {
      "cell_type": "code",
      "source": [
        "variable = \"Hola\"\n",
        "\n",
        "x = 5\n",
        "\n",
        "Cesar = {1, 2, \"perro\"}\n",
        "\n",
        "print(variable)\n",
        "\n",
        "print(x)\n"
      ],
      "metadata": {
        "colab": {
          "base_uri": "https://localhost:8080/"
        },
        "id": "dz_gBPd5do6U",
        "outputId": "74b84b7e-cb37-411a-8e24-f179579dbe09"
      },
      "execution_count": 3,
      "outputs": [
        {
          "output_type": "stream",
          "name": "stdout",
          "text": [
            "Hola\n",
            "5\n"
          ]
        }
      ]
    },
    {
      "cell_type": "code",
      "source": [
        "variable + str(x)"
      ],
      "metadata": {
        "colab": {
          "base_uri": "https://localhost:8080/",
          "height": 35
        },
        "id": "xhVqoFuIfMK8",
        "outputId": "9856f901-56a8-4ad3-db37-cc8e0a1e0f48"
      },
      "execution_count": 4,
      "outputs": [
        {
          "output_type": "execute_result",
          "data": {
            "text/plain": [
              "'Hola5'"
            ],
            "application/vnd.google.colaboratory.intrinsic+json": {
              "type": "string"
            }
          },
          "metadata": {},
          "execution_count": 4
        }
      ]
    },
    {
      "cell_type": "markdown",
      "source": [
        "### Listas\n",
        "\n",
        "$L=[a_{0}, a_{1}, \\dots, a_{n-1}]$"
      ],
      "metadata": {
        "id": "V7poYJujSoqF"
      }
    },
    {
      "cell_type": "code",
      "source": [
        "L = [1, 2, 3, 4, 5]\n",
        "\n",
        "M = [6, 7, 8, 9 , 10]\n",
        "\n",
        "N = [11, 12, 13]\n",
        "\n",
        "print(L)\n",
        "print(M)  # me muestra el resultado\n",
        "print(N)"
      ],
      "metadata": {
        "colab": {
          "base_uri": "https://localhost:8080/"
        },
        "id": "rMxqQX4SSW4t",
        "outputId": "1f72be46-a55c-487c-ba5a-7971cea235f6"
      },
      "execution_count": 5,
      "outputs": [
        {
          "output_type": "stream",
          "name": "stdout",
          "text": [
            "[1, 2, 3, 4, 5]\n",
            "[6, 7, 8, 9, 10]\n",
            "[11, 12, 13]\n"
          ]
        }
      ]
    },
    {
      "cell_type": "code",
      "source": [
        "type(L)"
      ],
      "metadata": {
        "id": "Zw1hYNaqTAwy",
        "outputId": "b8d1d1ec-138f-4951-9aaf-cc2d1c9dba72",
        "colab": {
          "base_uri": "https://localhost:8080/"
        }
      },
      "execution_count": 6,
      "outputs": [
        {
          "output_type": "execute_result",
          "data": {
            "text/plain": [
              "list"
            ]
          },
          "metadata": {},
          "execution_count": 6
        }
      ]
    },
    {
      "cell_type": "code",
      "source": [
        "L_set = set(L)\n",
        "\n",
        "L_set"
      ],
      "metadata": {
        "colab": {
          "base_uri": "https://localhost:8080/"
        },
        "id": "PrOqz_EkgzZo",
        "outputId": "a78509e2-1234-43d6-92ca-7aaaf6ca6826"
      },
      "execution_count": 7,
      "outputs": [
        {
          "output_type": "execute_result",
          "data": {
            "text/plain": [
              "{1, 2, 3, 4, 5}"
            ]
          },
          "metadata": {},
          "execution_count": 7
        }
      ]
    },
    {
      "cell_type": "code",
      "source": [
        "L_lista = list(L_set)\n",
        "L_lista"
      ],
      "metadata": {
        "colab": {
          "base_uri": "https://localhost:8080/"
        },
        "id": "odNKcoujeWBS",
        "outputId": "539b1e68-dd10-4c38-8d81-9a4f52db8a31"
      },
      "execution_count": 8,
      "outputs": [
        {
          "output_type": "execute_result",
          "data": {
            "text/plain": [
              "[1, 2, 3, 4, 5]"
            ]
          },
          "metadata": {},
          "execution_count": 8
        }
      ]
    },
    {
      "cell_type": "code",
      "source": [
        "L + M # concatena (no realiza operaciones vectoriales)."
      ],
      "metadata": {
        "colab": {
          "base_uri": "https://localhost:8080/"
        },
        "id": "ty7z2IXFhO1N",
        "outputId": "8391145f-9caf-44d1-9d3f-e8ba6de1aa9e"
      },
      "execution_count": 9,
      "outputs": [
        {
          "output_type": "execute_result",
          "data": {
            "text/plain": [
              "[1, 2, 3, 4, 5, 6, 7, 8, 9, 10]"
            ]
          },
          "metadata": {},
          "execution_count": 9
        }
      ]
    },
    {
      "cell_type": "code",
      "source": [
        "L + M + N"
      ],
      "metadata": {
        "colab": {
          "base_uri": "https://localhost:8080/"
        },
        "id": "KGyV18pje0dm",
        "outputId": "2cd80221-722a-42c5-a5be-348bdc102d5d"
      },
      "execution_count": 10,
      "outputs": [
        {
          "output_type": "execute_result",
          "data": {
            "text/plain": [
              "[1, 2, 3, 4, 5, 6, 7, 8, 9, 10, 11, 12, 13]"
            ]
          },
          "metadata": {},
          "execution_count": 10
        }
      ]
    },
    {
      "cell_type": "markdown",
      "source": [
        "### NumPy"
      ],
      "metadata": {
        "id": "cHpWBMkijawY"
      }
    },
    {
      "cell_type": "markdown",
      "source": [
        "- Un vector = arreglo 1D en Python\n",
        "- Una matriz = arreglo 2D en Python"
      ],
      "metadata": {
        "id": "qTF0vi9alcXr"
      }
    },
    {
      "cell_type": "code",
      "source": [
        "import numpy as np"
      ],
      "metadata": {
        "id": "cM1VQWLvjO6z"
      },
      "execution_count": 11,
      "outputs": []
    },
    {
      "cell_type": "code",
      "source": [
        "L_vector = np.array(L) # Convertir una lista en un vector\n",
        "\n",
        "L_vector"
      ],
      "metadata": {
        "colab": {
          "base_uri": "https://localhost:8080/"
        },
        "id": "ZAl3bdrqlzCq",
        "outputId": "18b4467b-e8a0-4e7b-f27f-e1dfc256892f"
      },
      "execution_count": 12,
      "outputs": [
        {
          "output_type": "execute_result",
          "data": {
            "text/plain": [
              "array([1, 2, 3, 4, 5])"
            ]
          },
          "metadata": {},
          "execution_count": 12
        }
      ]
    },
    {
      "cell_type": "code",
      "source": [
        "type(L_vector)"
      ],
      "metadata": {
        "colab": {
          "base_uri": "https://localhost:8080/"
        },
        "id": "JcKmNPCqdK-U",
        "outputId": "d8ea4af8-80ce-43ae-ffea-1581b2603dff"
      },
      "execution_count": 13,
      "outputs": [
        {
          "output_type": "execute_result",
          "data": {
            "text/plain": [
              "numpy.ndarray"
            ]
          },
          "metadata": {},
          "execution_count": 13
        }
      ]
    },
    {
      "cell_type": "code",
      "source": [
        "M_vector = np.array(M)\n",
        "\n",
        "N_vector = np.array(N)\n",
        "\n",
        "print(M_vector)\n",
        "print(N_vector)"
      ],
      "metadata": {
        "colab": {
          "base_uri": "https://localhost:8080/"
        },
        "id": "B7c2SQ3DmSkL",
        "outputId": "f07b7292-2ef1-4e3a-8823-d70c27420d9b"
      },
      "execution_count": 14,
      "outputs": [
        {
          "output_type": "stream",
          "name": "stdout",
          "text": [
            "[ 6  7  8  9 10]\n",
            "[11 12 13]\n"
          ]
        }
      ]
    },
    {
      "cell_type": "code",
      "source": [
        "len(L_vector), len(M_vector), len(N_vector)"
      ],
      "metadata": {
        "colab": {
          "base_uri": "https://localhost:8080/"
        },
        "id": "qWXPx9wHnVrV",
        "outputId": "22d0fa1a-10e5-4572-ac14-9da2cf2c3652"
      },
      "execution_count": 15,
      "outputs": [
        {
          "output_type": "execute_result",
          "data": {
            "text/plain": [
              "(5, 5, 3)"
            ]
          },
          "metadata": {},
          "execution_count": 15
        }
      ]
    },
    {
      "cell_type": "code",
      "source": [
        "L_vector + M_vector # suma vectorial"
      ],
      "metadata": {
        "colab": {
          "base_uri": "https://localhost:8080/"
        },
        "id": "FivOuxE5oClc",
        "outputId": "5e2792d7-bb7f-4ab1-ef2a-b5f878d6f497"
      },
      "execution_count": 16,
      "outputs": [
        {
          "output_type": "execute_result",
          "data": {
            "text/plain": [
              "array([ 7,  9, 11, 13, 15])"
            ]
          },
          "metadata": {},
          "execution_count": 16
        }
      ]
    },
    {
      "cell_type": "markdown",
      "source": [
        "## Creando matrices con NumPy: El método `solve( , )`\n"
      ],
      "metadata": {
        "id": "Oq29FUQwQk4k"
      }
    },
    {
      "cell_type": "markdown",
      "source": [
        "En una tienda de deportes, se venden camisetas y shorts. Un cliente compra 3 camisetas y 2 shorts por un total de $70.\n",
        "\n",
        "Otro cliente compra 2 camisetas y 4 shorts por un total de $80.\n",
        "\n",
        "¿Cuál es el precio de una camiseta y el precio de un short? Llamemos \\( x \\) al precio de una camiseta y \\( y \\) al precio de un short.\n",
        "\n",
        "Podemos formular las siguientes ecuaciones basadas en la información dada:\n",
        "\n",
        " \\begin{cases} 3x + 2y = 70 \\\\ 2x + 4y = 80 \\end{cases}"
      ],
      "metadata": {
        "id": "WgEfZlgu740L"
      }
    },
    {
      "cell_type": "code",
      "source": [
        "# Escribimos la mariz asociada al sistema de ecuaciones.\n",
        "A = np.array([3, 2, 2, 4]).reshape((2,2)) #\"Reshape\" va a convertir la matriz en 2x2\n",
        "A"
      ],
      "metadata": {
        "id": "Aizg3wSfovh3",
        "colab": {
          "base_uri": "https://localhost:8080/"
        },
        "outputId": "76ce0136-0e68-4bff-b7d3-41cd7ba00a19"
      },
      "execution_count": 18,
      "outputs": [
        {
          "output_type": "execute_result",
          "data": {
            "text/plain": [
              "array([[3, 2],\n",
              "       [2, 4]])"
            ]
          },
          "metadata": {},
          "execution_count": 18
        }
      ]
    },
    {
      "cell_type": "code",
      "source": [
        "B = np.array([70,80])"
      ],
      "metadata": {
        "id": "Dlk3EOZSR7Q_"
      },
      "execution_count": 19,
      "outputs": []
    },
    {
      "cell_type": "markdown",
      "source": [
        "$$AX=B$$"
      ],
      "metadata": {
        "id": "2-ZBA4T2SmfG"
      }
    },
    {
      "cell_type": "markdown",
      "source": [
        "##NumPy tiene una sublibrería que se llama Linalg, en donde se pueden resolver sistemas de ecuaciones."
      ],
      "metadata": {
        "id": "XgkwcZ-99tc9"
      }
    },
    {
      "cell_type": "code",
      "source": [
        "#\"solve\" resuelve el sistema de ecuaciones\n",
        "X = np.linalg.solve(A,B)\n",
        "\n",
        "X"
      ],
      "metadata": {
        "colab": {
          "base_uri": "https://localhost:8080/"
        },
        "id": "a7M19yRISlxU",
        "outputId": "cb58c3aa-071d-48d9-9b35-1538847959ac"
      },
      "execution_count": 20,
      "outputs": [
        {
          "output_type": "execute_result",
          "data": {
            "text/plain": [
              "array([15. , 12.5])"
            ]
          },
          "metadata": {},
          "execution_count": 20
        }
      ]
    },
    {
      "cell_type": "markdown",
      "source": [
        "La solución al sistema de ecuaciones es\n",
        "x=15  \n",
        "y=12.5\n"
      ],
      "metadata": {
        "id": "k1IF-H_x-Z4h"
      }
    }
  ]
}