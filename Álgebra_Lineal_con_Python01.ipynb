{
  "nbformat": 4,
  "nbformat_minor": 0,
  "metadata": {
    "colab": {
      "provenance": []
    },
    "kernelspec": {
      "name": "python3",
      "display_name": "Python 3"
    },
    "language_info": {
      "name": "python"
    }
  },
  "cells": [
    {
      "cell_type": "markdown",
      "source": [
        "# Introducción a Python ♦\n",
        "W3Schools [recurso web](https://www.w3schools.com/python/)\n"
      ],
      "metadata": {
        "id": "mxbLuTHd2TRu"
      }
    },
    {
      "cell_type": "code",
      "source": [
        "5+3, 5*3, 5-3, 5/3, 5**3 # Operaciones básicas"
      ],
      "metadata": {
        "colab": {
          "base_uri": "https://localhost:8080/"
        },
        "id": "_dyfhZZL2lco",
        "outputId": "39f3a61f-86b4-457f-8ab1-d14c4bcdcc71"
      },
      "execution_count": 1,
      "outputs": [
        {
          "output_type": "execute_result",
          "data": {
            "text/plain": [
              "(8, 15, 2, 1.6666666666666667, 125)"
            ]
          },
          "metadata": {},
          "execution_count": 1
        }
      ]
    },
    {
      "cell_type": "code",
      "source": [
        "5//3 #División al piso"
      ],
      "metadata": {
        "colab": {
          "base_uri": "https://localhost:8080/"
        },
        "id": "QYWWhKVa5Z7b",
        "outputId": "512c1c3d-1e1f-49a2-fd91-4f754598cf53"
      },
      "execution_count": 2,
      "outputs": [
        {
          "output_type": "execute_result",
          "data": {
            "text/plain": [
              "1"
            ]
          },
          "metadata": {},
          "execution_count": 2
        }
      ]
    },
    {
      "cell_type": "code",
      "source": [
        "5%2 #Residuo de la división"
      ],
      "metadata": {
        "colab": {
          "base_uri": "https://localhost:8080/"
        },
        "id": "b-Mmp5UE6rnL",
        "outputId": "0f5be17c-41cf-439f-e452-69db77fe4654"
      },
      "execution_count": 3,
      "outputs": [
        {
          "output_type": "execute_result",
          "data": {
            "text/plain": [
              "1"
            ]
          },
          "metadata": {},
          "execution_count": 3
        }
      ]
    },
    {
      "cell_type": "markdown",
      "source": [
        "## **Algunos objetos en Python**"
      ],
      "metadata": {
        "id": "4pxhuNfxmCnm"
      }
    },
    {
      "cell_type": "markdown",
      "source": [
        "En Python hay varios tipos de objetos:\n",
        "\n",
        "\n",
        "*   Números: int, float\n",
        "*   Lista\n",
        "*   Strings: \" \"\n",
        "*   Conjuntos\n",
        "*   **Arreglos** (vectores y/o matrices)"
      ],
      "metadata": {
        "id": "ocTcTN31irWe"
      }
    },
    {
      "cell_type": "code",
      "source": [
        "x = 5\n",
        "y = 3"
      ],
      "metadata": {
        "id": "d1JS9F-niwk8"
      },
      "execution_count": 4,
      "outputs": []
    },
    {
      "cell_type": "code",
      "source": [
        "x+y+y**2-(x)**(.5)"
      ],
      "metadata": {
        "colab": {
          "base_uri": "https://localhost:8080/"
        },
        "id": "-DIJo_Rmj54o",
        "outputId": "954b4a76-6f50-406b-e88c-ef369ebe7d00"
      },
      "execution_count": 5,
      "outputs": [
        {
          "output_type": "execute_result",
          "data": {
            "text/plain": [
              "14.76393202250021"
            ]
          },
          "metadata": {},
          "execution_count": 5
        }
      ]
    },
    {
      "cell_type": "markdown",
      "source": [
        "**Python tiene varias funciones**\n",
        "*   Type (Que tipo de objeto estás manejando)\n",
        "*   print (\n",
        "\n"
      ],
      "metadata": {
        "id": "S3hqmy1Aky2z"
      }
    },
    {
      "cell_type": "code",
      "source": [
        "type (1.0)"
      ],
      "metadata": {
        "colab": {
          "base_uri": "https://localhost:8080/"
        },
        "id": "RCrCC5EXlZoX",
        "outputId": "e7ad1b17-83f0-408f-81f7-9ffe6da120fc"
      },
      "execution_count": 6,
      "outputs": [
        {
          "output_type": "execute_result",
          "data": {
            "text/plain": [
              "float"
            ]
          },
          "metadata": {},
          "execution_count": 6
        }
      ]
    },
    {
      "cell_type": "code",
      "source": [
        "type (x)"
      ],
      "metadata": {
        "colab": {
          "base_uri": "https://localhost:8080/"
        },
        "id": "Wg-kX_5qlcJb",
        "outputId": "badf0950-43a5-42a1-d4e2-7b514f32ae0d"
      },
      "execution_count": 7,
      "outputs": [
        {
          "output_type": "execute_result",
          "data": {
            "text/plain": [
              "int"
            ]
          },
          "metadata": {},
          "execution_count": 7
        }
      ]
    },
    {
      "cell_type": "code",
      "source": [
        "type (1)"
      ],
      "metadata": {
        "colab": {
          "base_uri": "https://localhost:8080/"
        },
        "id": "w1pmPPeUld1b",
        "outputId": "db038f53-906e-4bef-9f04-9266dcd2453f"
      },
      "execution_count": 8,
      "outputs": [
        {
          "output_type": "execute_result",
          "data": {
            "text/plain": [
              "int"
            ]
          },
          "metadata": {},
          "execution_count": 8
        }
      ]
    },
    {
      "cell_type": "markdown",
      "source": [
        "## **Listas**\n",
        "\n",
        "Una lista en Python es un contenedor de objetos.\n",
        "\n",
        "$$\\text{Lista}=[e_{0}, e_{1} \\dots e_{n}]$$"
      ],
      "metadata": {
        "id": "mmq1n00Vl1xx"
      }
    },
    {
      "cell_type": "code",
      "source": [
        "# Hay que tener cuidado con el nombre de las variables.\n",
        "# Vamos a crear una lista\n",
        "Renata_1 = [7, 15, \"Diego\", \"azul\"]\n",
        "Mar_2 = []"
      ],
      "metadata": {
        "id": "VClUDFUFlhSj"
      },
      "execution_count": 9,
      "outputs": []
    },
    {
      "cell_type": "code",
      "source": [
        "print(Renata_1)"
      ],
      "metadata": {
        "colab": {
          "base_uri": "https://localhost:8080/"
        },
        "id": "aJBt8WIopfoF",
        "outputId": "b616420a-f58e-488b-daf0-99bf94c30948"
      },
      "execution_count": 10,
      "outputs": [
        {
          "output_type": "stream",
          "name": "stdout",
          "text": [
            "[7, 15, 'Diego', 'azul']\n"
          ]
        }
      ]
    },
    {
      "cell_type": "code",
      "source": [
        "print(Mar_2)"
      ],
      "metadata": {
        "colab": {
          "base_uri": "https://localhost:8080/"
        },
        "id": "65kbReGlr4gL",
        "outputId": "c18b69e8-febc-4b05-d4f2-6b6247b89bee"
      },
      "execution_count": 11,
      "outputs": [
        {
          "output_type": "stream",
          "name": "stdout",
          "text": [
            "[]\n"
          ]
        }
      ]
    },
    {
      "cell_type": "code",
      "source": [
        "Mar_2.append(16)\n",
        "Mar_2"
      ],
      "metadata": {
        "colab": {
          "base_uri": "https://localhost:8080/"
        },
        "id": "oFDTFpVfsADE",
        "outputId": "30e025e3-8d1e-4a97-ca39-cc1dbd506d36"
      },
      "execution_count": 12,
      "outputs": [
        {
          "output_type": "execute_result",
          "data": {
            "text/plain": [
              "[16]"
            ]
          },
          "metadata": {},
          "execution_count": 12
        }
      ]
    },
    {
      "cell_type": "markdown",
      "source": [
        "# Arreglos\n",
        "\n",
        "Un arreglo es una matriz de tamaño $m\\times n$\n",
        " \\begin{bmatrix}\n",
        "         a_{11} & a_{12} & \\cdots & a_{1n}\\\\\n",
        "         a_{21} & a_{22} & \\cdots & a_{2n}\\\\\n",
        "         \\vdots & \\vdots & \\ddots & \\vdots\\\\\n",
        "         a_{m1} & a_{m2} & \\cdots & a_{mn}\n",
        "      \\end{bmatrix}\n",
        "      \\times\n",
        "      \\begin{bmatrix}\n",
        "          b_{11} & b_{12} & \\cdots & b_{1p}\\\\\n",
        "          b_{21} & b_{22} & \\cdots & b_{2p}\\\\\n",
        "          \\vdots & \\vdots & \\ddots & \\vdots\\\\\n",
        "          b_{n1} & b_{n2} & \\cdots & b_{np}\n",
        "      \\end{bmatrix}\n",
        "      =\n",
        "      \\begin{bmatrix}\n",
        "        c_{11} & c_{12} & \\cdots & c_{1p}\\\\\n",
        "        c_{21} & c_{22} & \\cdots & c_{2p}\\\\\n",
        "        \\vdots & \\vdots & \\ddots & \\vdots\\\\\n",
        "        c_{m1} & c_{m2} & \\cdots & c_{mp}\n",
        "     \\end{bmatrix}\n",
        "     $$ c_{ij}= a_{i1} b_{1j} + a_{i2} b_{2j} +\\cdots+ a_{in} + b_{nj} = \\sum_{k=1}^n a_{ik}b_{kj} $$"
      ],
      "metadata": {
        "id": "G8aOTPNj9arC"
      }
    },
    {
      "cell_type": "code",
      "source": [
        "L = [1,2,4]\n",
        "M = [0,5,6]\n",
        "\n",
        "L+M"
      ],
      "metadata": {
        "colab": {
          "base_uri": "https://localhost:8080/"
        },
        "id": "ruGDIIx99cIE",
        "outputId": "c93223f1-0aa3-4868-b404-3efcc9d4304c"
      },
      "execution_count": 13,
      "outputs": [
        {
          "output_type": "execute_result",
          "data": {
            "text/plain": [
              "[1, 2, 4, 0, 5, 6]"
            ]
          },
          "metadata": {},
          "execution_count": 13
        }
      ]
    },
    {
      "cell_type": "code",
      "source": [
        "# En numpy existe una manera de transformar una lista a un vector\n",
        "L_matriz = Numpy.array(L)\n",
        "M_matriz = Numpy.array(M)"
      ],
      "metadata": {
        "colab": {
          "base_uri": "https://localhost:8080/",
          "height": 180
        },
        "id": "ULSCFrSaBSW6",
        "outputId": "2d4f2ee0-2961-4bff-fdc8-c466c4b1504f"
      },
      "execution_count": 14,
      "outputs": [
        {
          "output_type": "error",
          "ename": "NameError",
          "evalue": "name 'Numpy' is not defined",
          "traceback": [
            "\u001b[0;31m---------------------------------------------------------------------------\u001b[0m",
            "\u001b[0;31mNameError\u001b[0m                                 Traceback (most recent call last)",
            "\u001b[0;32m<ipython-input-14-af60cbc0819c>\u001b[0m in \u001b[0;36m<cell line: 2>\u001b[0;34m()\u001b[0m\n\u001b[1;32m      1\u001b[0m \u001b[0;31m# En numpy existe una manera de transformar una lista a un vector\u001b[0m\u001b[0;34m\u001b[0m\u001b[0;34m\u001b[0m\u001b[0m\n\u001b[0;32m----> 2\u001b[0;31m \u001b[0mL_matriz\u001b[0m \u001b[0;34m=\u001b[0m \u001b[0mNumpy\u001b[0m\u001b[0;34m.\u001b[0m\u001b[0marray\u001b[0m\u001b[0;34m(\u001b[0m\u001b[0mL\u001b[0m\u001b[0;34m)\u001b[0m\u001b[0;34m\u001b[0m\u001b[0;34m\u001b[0m\u001b[0m\n\u001b[0m\u001b[1;32m      3\u001b[0m \u001b[0mM_matriz\u001b[0m \u001b[0;34m=\u001b[0m \u001b[0mNumpy\u001b[0m\u001b[0;34m.\u001b[0m\u001b[0marray\u001b[0m\u001b[0;34m(\u001b[0m\u001b[0mM\u001b[0m\u001b[0;34m)\u001b[0m\u001b[0;34m\u001b[0m\u001b[0;34m\u001b[0m\u001b[0m\n",
            "\u001b[0;31mNameError\u001b[0m: name 'Numpy' is not defined"
          ]
        }
      ]
    },
    {
      "cell_type": "code",
      "source": [
        "L_matriz + M_matriz #suma de vectores"
      ],
      "metadata": {
        "id": "ggD88tCnBZuv"
      },
      "execution_count": null,
      "outputs": []
    },
    {
      "cell_type": "code",
      "source": [
        "vector = np.array([x for x in range(50) if x%2==0])"
      ],
      "metadata": {
        "id": "PAY2Yw7RBtiA"
      },
      "execution_count": null,
      "outputs": []
    },
    {
      "cell_type": "markdown",
      "source": [
        "## La librería numpy.random"
      ],
      "metadata": {
        "id": "kDtKAWHDCfe5"
      }
    },
    {
      "cell_type": "code",
      "source": [
        "vector_aleatorio = np.random.randint(1, 70, size= 30)\n",
        "vector_aleatorio"
      ],
      "metadata": {
        "id": "hdKQXm21ClBM"
      },
      "execution_count": null,
      "outputs": []
    },
    {
      "cell_type": "markdown",
      "source": [
        "## Matrices"
      ],
      "metadata": {
        "id": "mUfPk_ZaDP8u"
      }
    },
    {
      "cell_type": "code",
      "source": [
        "len(vector)"
      ],
      "metadata": {
        "id": "U1zhzBHhDT2U"
      },
      "execution_count": null,
      "outputs": []
    },
    {
      "cell_type": "code",
      "source": [],
      "metadata": {
        "id": "3IQuqmaMDXAo"
      },
      "execution_count": null,
      "outputs": []
    }
  ]
}